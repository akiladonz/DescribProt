{
 "cells": [
  {
   "cell_type": "code",
   "execution_count": 73,
   "metadata": {},
   "outputs": [],
   "source": [
    "import numpy as np\n",
    "import pandas as pd\n",
    "import csv\n",
    "Lines= []\n",
    "f = open(r'C:\\Users\\katuwawalaai\\DB_Visualization\\P22362_SS.txt')\n",
    "for line in f:\n",
    "    data_line = line.rstrip().split('\\t')\n",
    "    Lines.append(data_line)"
   ]
  },
  {
   "cell_type": "code",
   "execution_count": 74,
   "metadata": {},
   "outputs": [],
   "source": [
    "ID=Lines[0][0]\n",
    "Sequence=list(Lines[1][0])\n",
    "Vsl_Binary=list(map(int,list(Lines[2][0])))\n",
    "Vsl_Score=list(map(float,Lines[3][0].rstrip().split(',')))\n",
    "PsiPred_Binary=list(map(int,list(Lines[4][0])))\n",
    "Helix_Score=list(map(float,Lines[5][0].rstrip().split(',')))\n",
    "Strand_Score=list(map(float,Lines[6][0].rstrip().split(',')))\n",
    "Coil_Score=list(map(float,Lines[7][0].rstrip().split(',')))\n",
    "mmseq_Binary=list(map(int,list(Lines[8][0])))\n",
    "mmseq_Score=list(map(float,Lines[9][0].rstrip().split(',')))\n",
    "SignalP_Binary=list(map(int,list(Lines[10][0])))\n",
    "SignalP_Score=list(map(float,Lines[11][0].rstrip().split(',')))\n",
    "DFL_Binary=list(map(int,list(Lines[13][0])))\n",
    "DFL_Score=list(map(float,Lines[14][0].rstrip().split(',')))\n",
    "ASA_Binary=list(map(int,list(Lines[15][0])))\n",
    "ASA_Score=list(map(float,Lines[16][0].rstrip().split(',')))\n",
    "DisoRNA_Binary=list(map(int,list(Lines[17][0])))\n",
    "DisoRNA_Score=list(map(float,Lines[18][0].rstrip().split(',')))\n",
    "DrnaRNA_Binary=list(map(int,list(Lines[19][0])))\n",
    "DrnaRNA_Score=list(map(float,Lines[20][0].rstrip().split(',')))\n",
    "DisoDNA_Binary=list(map(int,list(Lines[21][0])))\n",
    "DisoDNA_Score=list(map(float,Lines[22][0].rstrip().split(',')))\n",
    "DrnaDNA_Binary=list(map(int,list(Lines[23][0])))\n",
    "DrnaDNA_Score=list(map(float,Lines[24][0].rstrip().split(',')))\n",
    "DisoProt_Binary=list(map(int,list(Lines[25][0])))\n",
    "DisoProt_Score=list(map(float,Lines[26][0].rstrip().split(',')))\n",
    "Scribber_Binary=list(map(int,list(Lines[27][0])))\n",
    "Scribber_Score=list(map(float,Lines[28][0].rstrip().split(',')))\n",
    "Morf_Binary=list(map(int,list(Lines[29][0])))\n",
    "Morf_Score=list(map(float,Lines[30][0].rstrip().split(',')))"
   ]
  },
  {
   "cell_type": "code",
   "execution_count": 75,
   "metadata": {},
   "outputs": [],
   "source": [
    "from operator import itemgetter\n",
    "from itertools import *\n",
    "def BinaryCoordiantes(Binary_Prediction):\n",
    "              #######################################################################################################\n",
    "              #Getting the positions of predicted Disorder regions\n",
    "              Disorder_Index= [] \n",
    "              b = 0\n",
    "              for b in range(0, len(Binary_Prediction), 1):\n",
    "                                                       if Binary_Prediction[b] == 1:Disorder_Index.append(b)\n",
    "                                                       \n",
    "              Disorder_Index=np.unique(Disorder_Index)\n",
    "              ######################################################################################################\n",
    "              groups = []\n",
    "              for k, g in groupby(enumerate(Disorder_Index), lambda x: x[0]-x[1]):\n",
    "                    groups.append(list(map(itemgetter(1), g)))\n",
    "              Coordinates_x=[]\n",
    "              Coordinates_y=[]\n",
    "              for group in groups:\n",
    "                    Coordinates_x.append(min(group))\n",
    "                    Coordinates_y.append(max(group))\n",
    "              if len(Coordinates_x)==0:\n",
    "                         Coordinates_x.append(0)\n",
    "                         Coordinates_y.append(0)\n",
    "              return Coordinates_x,Coordinates_y"
   ]
  },
  {
   "cell_type": "code",
   "execution_count": 76,
   "metadata": {},
   "outputs": [],
   "source": [
    "def HelixCoordiantes(Binary_Prediction):\n",
    "              #######################################################################################################\n",
    "              #Getting the positions of predicted Disorder regions\n",
    "              Disorder_Index= [] \n",
    "              b = 0\n",
    "              for b in range(0, len(Binary_Prediction), 1):\n",
    "                                                       if Binary_Prediction[b] == 0:Disorder_Index.append(b)\n",
    "                                                       \n",
    "              Disorder_Index=np.unique(Disorder_Index)\n",
    "              ######################################################################################################\n",
    "              groups = []\n",
    "              for k, g in groupby(enumerate(Disorder_Index), lambda x: x[0]-x[1]):\n",
    "                    groups.append(list(map(itemgetter(1), g)))\n",
    "              Coordinates_x=[]\n",
    "              Coordinates_y=[]\n",
    "              for group in groups:\n",
    "                    Coordinates_x.append(min(group))\n",
    "                    Coordinates_y.append(max(group))\n",
    "              return Coordinates_x,Coordinates_y"
   ]
  },
  {
   "cell_type": "code",
   "execution_count": 77,
   "metadata": {},
   "outputs": [],
   "source": [
    "def CoilCoordiantes(Binary_Prediction):\n",
    "              #######################################################################################################\n",
    "              #Getting the positions of predicted Disorder regions\n",
    "              Disorder_Index= [] \n",
    "              b = 0\n",
    "              for b in range(0, len(Binary_Prediction), 1):\n",
    "                                                       if Binary_Prediction[b] == 2:Disorder_Index.append(b)\n",
    "                                                       \n",
    "              Disorder_Index=np.unique(Disorder_Index)\n",
    "              ######################################################################################################\n",
    "              groups = []\n",
    "              for k, g in groupby(enumerate(Disorder_Index), lambda x: x[0]-x[1]):\n",
    "                    groups.append(list(map(itemgetter(1), g)))\n",
    "              Coordinates_x=[]\n",
    "              Coordinates_y=[]\n",
    "              for group in groups:\n",
    "                    Coordinates_x.append(min(group))\n",
    "                    Coordinates_y.append(max(group))\n",
    "              return Coordinates_x,Coordinates_y"
   ]
  },
  {
   "cell_type": "code",
   "execution_count": 78,
   "metadata": {},
   "outputs": [],
   "source": [
    "def Conv4(Binary_Prediction):\n",
    "              #######################################################################################################\n",
    "              #Getting the positions of predicted Disorder regions\n",
    "              Disorder_Index= [] \n",
    "              b = 0\n",
    "              for b in range(0, len(Binary_Prediction), 1):\n",
    "                                                       if Binary_Prediction[b] == 3:Disorder_Index.append(b)\n",
    "                                                       \n",
    "              Disorder_Index=np.unique(Disorder_Index)\n",
    "              ######################################################################################################\n",
    "              groups = []\n",
    "              for k, g in groupby(enumerate(Disorder_Index), lambda x: x[0]-x[1]):\n",
    "                    groups.append(list(map(itemgetter(1), g)))\n",
    "              Coordinates_x=[]\n",
    "              Coordinates_y=[]\n",
    "              for group in groups:\n",
    "                    Coordinates_x.append(min(group))\n",
    "                    Coordinates_y.append(max(group))\n",
    "              return Coordinates_x,Coordinates_y"
   ]
  },
  {
   "cell_type": "code",
   "execution_count": 79,
   "metadata": {},
   "outputs": [],
   "source": [
    "def Conv5(Binary_Prediction):\n",
    "              #######################################################################################################\n",
    "              #Getting the positions of predicted Disorder regions\n",
    "              Disorder_Index= [] \n",
    "              b = 0\n",
    "              for b in range(0, len(Binary_Prediction), 1):\n",
    "                                                       if Binary_Prediction[b] == 4:Disorder_Index.append(b)\n",
    "                                                       \n",
    "              Disorder_Index=np.unique(Disorder_Index)\n",
    "              ######################################################################################################\n",
    "              groups = []\n",
    "              for k, g in groupby(enumerate(Disorder_Index), lambda x: x[0]-x[1]):\n",
    "                    groups.append(list(map(itemgetter(1), g)))\n",
    "              Coordinates_x=[]\n",
    "              Coordinates_y=[]\n",
    "              for group in groups:\n",
    "                    Coordinates_x.append(min(group))\n",
    "                    Coordinates_y.append(max(group))\n",
    "              return Coordinates_x,Coordinates_y"
   ]
  },
  {
   "cell_type": "code",
   "execution_count": 80,
   "metadata": {},
   "outputs": [],
   "source": [
    "def Conv6(Binary_Prediction):\n",
    "              #######################################################################################################\n",
    "              #Getting the positions of predicted Disorder regions\n",
    "              Disorder_Index= [] \n",
    "              b = 0\n",
    "              for b in range(0, len(Binary_Prediction), 1):\n",
    "                                                       if Binary_Prediction[b] == 5:Disorder_Index.append(b)\n",
    "                                                       \n",
    "              Disorder_Index=np.unique(Disorder_Index)\n",
    "              ######################################################################################################\n",
    "              groups = []\n",
    "              for k, g in groupby(enumerate(Disorder_Index), lambda x: x[0]-x[1]):\n",
    "                    groups.append(list(map(itemgetter(1), g)))\n",
    "              Coordinates_x=[]\n",
    "              Coordinates_y=[]\n",
    "              for group in groups:\n",
    "                    Coordinates_x.append(min(group))\n",
    "                    Coordinates_y.append(max(group))\n",
    "              return Coordinates_x,Coordinates_y"
   ]
  },
  {
   "cell_type": "code",
   "execution_count": 81,
   "metadata": {},
   "outputs": [],
   "source": [
    "def Conv7(Binary_Prediction):\n",
    "              #######################################################################################################\n",
    "              #Getting the positions of predicted Disorder regions\n",
    "              Disorder_Index= [] \n",
    "              b = 0\n",
    "              for b in range(0, len(Binary_Prediction), 1):\n",
    "                                                       if Binary_Prediction[b] == 6:Disorder_Index.append(b)\n",
    "                                                       \n",
    "              Disorder_Index=np.unique(Disorder_Index)\n",
    "              ######################################################################################################\n",
    "              groups = []\n",
    "              for k, g in groupby(enumerate(Disorder_Index), lambda x: x[0]-x[1]):\n",
    "                    groups.append(list(map(itemgetter(1), g)))\n",
    "              Coordinates_x=[]\n",
    "              Coordinates_y=[]\n",
    "              for group in groups:\n",
    "                    Coordinates_x.append(min(group))\n",
    "                    Coordinates_y.append(max(group))\n",
    "              return Coordinates_x,Coordinates_y"
   ]
  },
  {
   "cell_type": "code",
   "execution_count": 82,
   "metadata": {},
   "outputs": [],
   "source": [
    "def Conv8(Binary_Prediction):\n",
    "              #######################################################################################################\n",
    "              #Getting the positions of predicted Disorder regions\n",
    "              Disorder_Index= [] \n",
    "              b = 0\n",
    "              for b in range(0, len(Binary_Prediction), 1):\n",
    "                                                       if Binary_Prediction[b] == 7:Disorder_Index.append(b)\n",
    "                                                       \n",
    "              Disorder_Index=np.unique(Disorder_Index)\n",
    "              ######################################################################################################\n",
    "              groups = []\n",
    "              for k, g in groupby(enumerate(Disorder_Index), lambda x: x[0]-x[1]):\n",
    "                    groups.append(list(map(itemgetter(1), g)))\n",
    "              Coordinates_x=[]\n",
    "              Coordinates_y=[]\n",
    "              for group in groups:\n",
    "                    Coordinates_x.append(min(group))\n",
    "                    Coordinates_y.append(max(group))\n",
    "              return Coordinates_x,Coordinates_y"
   ]
  },
  {
   "cell_type": "code",
   "execution_count": 83,
   "metadata": {},
   "outputs": [],
   "source": [
    "def Conv9(Binary_Prediction):\n",
    "              #######################################################################################################\n",
    "              #Getting the positions of predicted Disorder regions\n",
    "              Disorder_Index= [] \n",
    "              b = 0\n",
    "              for b in range(0, len(Binary_Prediction), 1):\n",
    "                                                       if Binary_Prediction[b] == 8:Disorder_Index.append(b)\n",
    "                                                       \n",
    "              Disorder_Index=np.unique(Disorder_Index)\n",
    "              ######################################################################################################\n",
    "              groups = []\n",
    "              for k, g in groupby(enumerate(Disorder_Index), lambda x: x[0]-x[1]):\n",
    "                    groups.append(list(map(itemgetter(1), g)))\n",
    "              Coordinates_x=[]\n",
    "              Coordinates_y=[]\n",
    "              for group in groups:\n",
    "                    Coordinates_x.append(min(group))\n",
    "                    Coordinates_y.append(max(group))\n",
    "              return Coordinates_x,Coordinates_y"
   ]
  },
  {
   "cell_type": "code",
   "execution_count": 84,
   "metadata": {},
   "outputs": [],
   "source": [
    "def Conv10(Binary_Prediction):\n",
    "              #######################################################################################################\n",
    "              #Getting the positions of predicted Disorder regions\n",
    "              Disorder_Index= [] \n",
    "              b = 0\n",
    "              for b in range(0, len(Binary_Prediction), 1):\n",
    "                                                       if Binary_Prediction[b] == 9:Disorder_Index.append(b)\n",
    "                                                       \n",
    "              Disorder_Index=np.unique(Disorder_Index)\n",
    "              ######################################################################################################\n",
    "              groups = []\n",
    "              for k, g in groupby(enumerate(Disorder_Index), lambda x: x[0]-x[1]):\n",
    "                    groups.append(list(map(itemgetter(1), g)))\n",
    "              Coordinates_x=[]\n",
    "              Coordinates_y=[]\n",
    "              for group in groups:\n",
    "                    Coordinates_x.append(min(group))\n",
    "                    Coordinates_y.append(max(group))\n",
    "              return Coordinates_x,Coordinates_y"
   ]
  },
  {
   "cell_type": "code",
   "execution_count": 85,
   "metadata": {},
   "outputs": [],
   "source": [
    "for b in range(70,len(ASA_Score),1):\n",
    "            SignalP_Score.append(0.0)\n",
    "            SignalP_Binary.append(0)"
   ]
  },
  {
   "cell_type": "code",
   "execution_count": null,
   "metadata": {},
   "outputs": [],
   "source": [
    "for b in range(70,len(ASA_Score),1):\n",
    "            SignalP_Binary.append(0)"
   ]
  },
  {
   "cell_type": "code",
   "execution_count": 14,
   "metadata": {},
   "outputs": [],
   "source": [
    "PsiPred_Score=[]\n",
    "for b in range(0,len(Helix_Score),1):\n",
    "                PsiPred_Score.append(max([Helix_Score[b],Strand_Score[b],Coil_Score[b]]))"
   ]
  },
  {
   "cell_type": "code",
   "execution_count": 15,
   "metadata": {},
   "outputs": [],
   "source": [
    "Vsl_Corrdinates_x,Vsl_Corrdinates_y=BinaryCoordiantes(Vsl_Binary)\n",
    "SignalP_Corrdinates_x,SignalP_Corrdinates_y=BinaryCoordiantes(SignalP_Binary)\n",
    "DFL_Corrdinates_x,DFL_Corrdinates_y=BinaryCoordiantes(DFL_Binary)\n",
    "ASA_Corrdinates_x,ASA_Corrdinates_y=BinaryCoordiantes(ASA_Binary)\n",
    "DisoRNA_Corrdinates_x,DisoRNA_Corrdinates_y=BinaryCoordiantes(DisoRNA_Binary)\n",
    "DisoDNA_Corrdinates_x,DisoDNA_Corrdinates_y=BinaryCoordiantes(DisoDNA_Binary)\n",
    "DisoProt_Corrdinates_x,DisoProt_Corrdinates_y=BinaryCoordiantes(DisoProt_Binary)\n",
    "Morf_Corrdinates_x,Morf_Corrdinates_y=BinaryCoordiantes(Morf_Binary)\n",
    "DrnaDNA_Corrdinates_x,DrnaDNA_Corrdinates_y=BinaryCoordiantes(DrnaDNA_Binary)\n",
    "DrnaRNA_Corrdinates_x,DrnaRNA_Corrdinates_y=BinaryCoordiantes(DrnaRNA_Binary)\n",
    "Scribber_Corrdinates_x,Scribber_Corrdinates_y=BinaryCoordiantes(Scribber_Binary)"
   ]
  },
  {
   "cell_type": "code",
   "execution_count": 16,
   "metadata": {},
   "outputs": [],
   "source": [
    "Helix_Corrdinates_x,Helix_Corrdinates_y=HelixCoordiantes(PsiPred_Binary)\n",
    "Strand_Corrdinates_x,Strand_Corrdinates_y=BinaryCoordiantes(PsiPred_Binary)\n",
    "Coil_Corrdinates_x,Coil_Corrdinates_y=CoilCoordiantes(PsiPred_Binary)"
   ]
  },
  {
   "cell_type": "code",
   "execution_count": 17,
   "metadata": {},
   "outputs": [],
   "source": [
    "Conv1_Corrdinates_x,Conv1_Corrdinates_y=HelixCoordiantes(mmseq_Binary)\n",
    "Conv2_Corrdinates_x,Conv2_Corrdinates_y=BinaryCoordiantes(mmseq_Binary)\n",
    "Conv3_Corrdinates_x,Conv3_Corrdinates_y=CoilCoordiantes(mmseq_Binary)\n",
    "Conv4_Corrdinates_x,Conv4_Corrdinates_y=Conv4(mmseq_Binary)\n",
    "Conv5_Corrdinates_x,Conv5_Corrdinates_y=Conv5(mmseq_Binary)\n",
    "Conv6_Corrdinates_x,Conv6_Corrdinates_y=Conv6(mmseq_Binary)\n",
    "Conv7_Corrdinates_x,Conv7_Corrdinates_y=Conv7(mmseq_Binary)\n",
    "Conv8_Corrdinates_x,Conv8_Corrdinates_y=Conv8(mmseq_Binary)\n",
    "Conv9_Corrdinates_x,Conv9_Corrdinates_y=Conv9(mmseq_Binary)\n",
    "Conv10_Corrdinates_x,Conv10_Corrdinates_y=Conv10(mmseq_Binary)"
   ]
  },
  {
   "cell_type": "code",
   "execution_count": 59,
   "metadata": {},
   "outputs": [],
   "source": [
    "from sklearn.preprocessing import MinMaxScaler\n",
    "def Resccaling(Score):\n",
    "            scaler = MinMaxScaler(feature_range=(0.33,1))\n",
    "            Score=np.asarray(Score)\n",
    "            Score=Score.reshape(-1, 1)\n",
    "            data=[0,1]\n",
    "            data=np.asarray(data)\n",
    "            data=data.reshape(-1, 1)\n",
    " #           scaler.fit(data)\n",
    "            Score=scaler.fit_transform(Score)\n",
    "            Scaled_Score=np.concatenate(Score)\n",
    "            return Scaled_Score"
   ]
  },
  {
   "cell_type": "code",
   "execution_count": 65,
   "metadata": {},
   "outputs": [],
   "source": [
    "def Resccaling1(Score):\n",
    "            scaler = MinMaxScaler(feature_range=(0,1))\n",
    "            Score=np.asarray(Score)\n",
    "            Score=Score.reshape(-1, 1)\n",
    "            data=[0,1]\n",
    "            data=np.asarray(data)\n",
    "            data=data.reshape(-1, 1)\n",
    " #           scaler.fit(data)\n",
    "            Score=scaler.fit_transform(Score)\n",
    "            Scaled_Score=np.concatenate(Score)\n",
    "            return Scaled_Score"
   ]
  },
  {
   "cell_type": "code",
   "execution_count": 66,
   "metadata": {},
   "outputs": [],
   "source": [
    "PsiPred_Score=Resccaling(PsiPred_Score)\n",
    "mmseq_Score=Resccaling1(mmseq_Score)"
   ]
  },
  {
   "cell_type": "code",
   "execution_count": 67,
   "metadata": {},
   "outputs": [
    {
     "data": {
      "text/plain": [
       "array([0.81767956, 0.56906077, 0.25966851, 0.1961326 , 0.46685083,\n",
       "       0.25966851, 0.49171271, 0.40607735, 0.15469613, 0.77900552,\n",
       "       0.40883978, 0.40055249, 0.37016575, 0.44198895, 0.25690608,\n",
       "       0.46132597, 0.98066298, 0.38950276, 0.63812155, 0.45303867,\n",
       "       0.39779006, 0.44751381, 0.45856354, 0.24309392, 0.45027624,\n",
       "       0.6878453 , 0.75414365, 0.39779006, 0.59392265, 0.2679558 ,\n",
       "       0.30662983, 0.44198895, 0.81767956, 0.81767956, 0.64088398,\n",
       "       0.36740331, 0.49447514, 0.13812155, 0.25690608, 0.33149171,\n",
       "       0.27071823, 0.53038674, 0.6878453 , 0.16850829, 0.29281768,\n",
       "       0.27071823, 0.40883978, 0.27348066, 0.50552486, 0.75138122,\n",
       "       0.20718232, 0.29558011, 0.61878453, 0.53314917, 0.56353591,\n",
       "       0.47790055, 0.82044199, 0.46132597, 0.23756906, 0.59116022,\n",
       "       0.30662983, 0.46685083, 0.52209945, 0.63812155, 0.22099448,\n",
       "       0.55801105, 0.54143646, 0.28729282, 0.51381215, 0.57458564,\n",
       "       0.44198895, 0.21546961, 0.82044199, 0.45027624, 0.35911602,\n",
       "       0.67955801, 0.35359116, 0.34254144, 0.        , 1.        ,\n",
       "       0.51657459, 0.72651934, 0.17955801, 0.72928177, 0.64364641,\n",
       "       0.48342541, 0.1878453 , 0.3038674 , 0.25414365, 0.50276243,\n",
       "       0.8121547 , 0.68232044, 0.47513812, 0.45303867, 0.60497238,\n",
       "       0.39779006])"
      ]
     },
     "execution_count": 67,
     "metadata": {},
     "output_type": "execute_result"
    }
   ],
   "source": [
    "mmseq_Score"
   ]
  },
  {
   "cell_type": "code",
   "execution_count": 63,
   "metadata": {},
   "outputs": [
    {
     "data": {
      "text/plain": [
       "array([1.  , 0.4 , 0.73, 0.82, 0.9 , 0.97, 0.99, 0.99, 0.99, 1.  , 1.  ,\n",
       "       0.96, 0.93, 0.81, 0.82, 0.93, 0.97, 0.87, 0.81, 0.74, 0.71, 0.84,\n",
       "       0.84, 0.87, 0.79, 0.69, 0.5 , 0.54, 0.6 , 0.59, 0.49, 0.41, 0.33,\n",
       "       0.36, 0.44, 0.45, 0.46, 0.5 , 0.58, 0.64, 0.61, 0.64, 0.64, 0.49,\n",
       "       0.57, 0.7 , 0.81, 0.82, 0.65, 0.49, 0.49, 0.8 , 0.86, 0.84, 0.86,\n",
       "       0.71, 0.66, 0.85, 0.9 , 0.82, 0.89, 0.58, 0.89, 0.95, 0.93, 0.76,\n",
       "       0.52, 0.77, 0.9 , 0.76, 0.55, 0.41, 0.35, 0.34, 0.41, 0.55, 0.66,\n",
       "       0.8 , 0.84, 0.95, 0.96, 0.98, 0.95, 0.9 , 0.95, 0.94, 0.89, 0.82,\n",
       "       0.75, 0.52, 0.95, 0.95, 0.95, 0.95, 0.95, 1.  ])"
      ]
     },
     "execution_count": 63,
     "metadata": {},
     "output_type": "execute_result"
    }
   ],
   "source": [
    "np.around(PsiPred_Score, decimals=2)"
   ]
  },
  {
   "cell_type": "code",
   "execution_count": 68,
   "metadata": {},
   "outputs": [
    {
     "data": {
      "text/plain": [
       "array([0.82, 0.57, 0.26, 0.2 , 0.47, 0.26, 0.49, 0.41, 0.15, 0.78, 0.41,\n",
       "       0.4 , 0.37, 0.44, 0.26, 0.46, 0.98, 0.39, 0.64, 0.45, 0.4 , 0.45,\n",
       "       0.46, 0.24, 0.45, 0.69, 0.75, 0.4 , 0.59, 0.27, 0.31, 0.44, 0.82,\n",
       "       0.82, 0.64, 0.37, 0.49, 0.14, 0.26, 0.33, 0.27, 0.53, 0.69, 0.17,\n",
       "       0.29, 0.27, 0.41, 0.27, 0.51, 0.75, 0.21, 0.3 , 0.62, 0.53, 0.56,\n",
       "       0.48, 0.82, 0.46, 0.24, 0.59, 0.31, 0.47, 0.52, 0.64, 0.22, 0.56,\n",
       "       0.54, 0.29, 0.51, 0.57, 0.44, 0.22, 0.82, 0.45, 0.36, 0.68, 0.35,\n",
       "       0.34, 0.  , 1.  , 0.52, 0.73, 0.18, 0.73, 0.64, 0.48, 0.19, 0.3 ,\n",
       "       0.25, 0.5 , 0.81, 0.68, 0.48, 0.45, 0.6 , 0.4 ])"
      ]
     },
     "execution_count": 68,
     "metadata": {},
     "output_type": "execute_result"
    }
   ],
   "source": [
    "np.around(mmseq_Score, decimals=2)"
   ]
  },
  {
   "cell_type": "code",
   "execution_count": 70,
   "metadata": {},
   "outputs": [
    {
     "name": "stdout",
     "output_type": "stream",
     "text": [
      "['M', 'Q', 'I', 'I', 'T', 'T', 'A', 'L', 'V', 'C', 'L', 'L', 'L', 'A', 'G', 'M', 'W', 'P', 'E', 'D', 'V', 'D', 'S', 'K', 'S', 'M', 'Q', 'V', 'P', 'F', 'S', 'R', 'C', 'C', 'F', 'S', 'F', 'A', 'E', 'Q', 'E', 'I', 'P', 'L', 'R', 'A', 'I', 'L', 'C', 'Y', 'R', 'N', 'T', 'S', 'S', 'I', 'C', 'S', 'N', 'E', 'G', 'L', 'I', 'F', 'K', 'L', 'K', 'R', 'G', 'K', 'E', 'A', 'C', 'A', 'L', 'D', 'T', 'V', 'G', 'W', 'V', 'Q', 'R', 'H', 'R', 'K', 'M', 'L', 'R', 'H', 'C', 'P', 'S', 'K', 'R', 'K']\n"
     ]
    }
   ],
   "source": [
    "print(Sequence)"
   ]
  },
  {
   "cell_type": "code",
   "execution_count": 71,
   "metadata": {},
   "outputs": [
    {
     "data": {
      "text/plain": [
       "'MQIITTALVCLLLAGMWPEDVDSKSMQVPFSRCCFSFAEQEIPLRAILCYRNTSSICSNEGLIFKLKRGKEACALDTVGWVQRHRKMLRHCPSKRK'"
      ]
     },
     "execution_count": 71,
     "metadata": {},
     "output_type": "execute_result"
    }
   ],
   "source": [
    "x = str(Sequence)\n",
    "x = x[1:-1]\n",
    "x = x.replace(\",\", \"\")\n",
    "x = x.replace(\" \", \"\")\n",
    "x = x.replace(\"''\", \"\")\n",
    "x = x.replace(\"'\", \"\")\n",
    "x"
   ]
  },
  {
   "cell_type": "code",
   "execution_count": 20,
   "metadata": {},
   "outputs": [],
   "source": [
    "SS_Code=[]\n",
    "\n",
    "for b in range(0,len(PsiPred_Binary),1):\n",
    "    if PsiPred_Binary[b]==0:SS_Code.append('Helix')\n",
    "    elif PsiPred_Binary[b]==1:SS_Code.append('Strand')\n",
    "    elif PsiPred_Binary[b]==2:SS_Code.append('Coil')\n",
    "    else:SS_Code.append('X')\n",
    "    "
   ]
  }
 ],
 "metadata": {
  "kernelspec": {
   "display_name": "Python 3",
   "language": "python",
   "name": "python3"
  },
  "language_info": {
   "codemirror_mode": {
    "name": "ipython",
    "version": 3
   },
   "file_extension": ".py",
   "mimetype": "text/x-python",
   "name": "python",
   "nbconvert_exporter": "python",
   "pygments_lexer": "ipython3",
   "version": "3.7.6"
  }
 },
 "nbformat": 4,
 "nbformat_minor": 4
}
