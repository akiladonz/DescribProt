{
 "cells": [
  {
   "cell_type": "code",
   "execution_count": 1,
   "metadata": {},
   "outputs": [],
   "source": [
    "from IPython.display import display, HTML, Javascript"
   ]
  },
  {
   "cell_type": "code",
   "execution_count": 2,
   "metadata": {},
   "outputs": [
    {
     "data": {
      "text/html": [
       "<script>\n",
       "function getResults(data, div_id) {\n",
       "    var checkExist = setInterval(function() {\n",
       "       if ($('#' + div_id).length) {\n",
       "          document.getElementById(div_id).textContent = data;\n",
       "\n",
       "          clearInterval(checkExist);\n",
       "       }\n",
       "    }, 100);    \n",
       "};\n",
       "</script>"
      ],
      "text/plain": [
       "<IPython.core.display.HTML object>"
      ]
     },
     "metadata": {},
     "output_type": "display_data"
    }
   ],
   "source": [
    "js_getResults = \"\"\"<script>\n",
    "function getResults(data, div_id) {\n",
    "    var checkExist = setInterval(function() {\n",
    "       if ($('#' + div_id).length) {\n",
    "          document.getElementById(div_id).textContent = data;\n",
    "\n",
    "          clearInterval(checkExist);\n",
    "       }\n",
    "    }, 100);    \n",
    "};\n",
    "</script>\"\"\"\n",
    "\n",
    "display(HTML(js_getResults))"
   ]
  },
  {
   "cell_type": "code",
   "execution_count": 3,
   "metadata": {},
   "outputs": [
    {
     "data": {
      "text/html": [
       "<div id=\"unique_id\">Waiting for response...</div>"
      ],
      "text/plain": [
       "<IPython.core.display.HTML object>"
      ]
     },
     "metadata": {},
     "output_type": "display_data"
    },
    {
     "data": {
      "text/plain": [
       "<DisplayHandle display_id=unique_disp_id>"
      ]
     },
     "execution_count": 3,
     "metadata": {},
     "output_type": "execute_result"
    }
   ],
   "source": [
    "js_request = '$.get(\"http://slow.server/\", function(data){getResults(data, \"unique_id\");});'\n",
    "html_div = '<div id=\"unique_id\">Waiting for response...</div>'\n",
    "\n",
    "display(Javascript(js_request), display_id='unique_disp_id')\n",
    "display(HTML(html_div), display_id='unique_disp_id', update=True)"
   ]
  },
  {
   "cell_type": "code",
   "execution_count": 7,
   "metadata": {},
   "outputs": [
    {
     "ename": "SyntaxError",
     "evalue": "invalid syntax (<ipython-input-7-086f454f7bf7>, line 1)",
     "output_type": "error",
     "traceback": [
      "\u001b[1;36m  File \u001b[1;32m\"<ipython-input-7-086f454f7bf7>\"\u001b[1;36m, line \u001b[1;32m1\u001b[0m\n\u001b[1;33m    function sayHello() {\u001b[0m\n\u001b[1;37m                    ^\u001b[0m\n\u001b[1;31mSyntaxError\u001b[0m\u001b[1;31m:\u001b[0m invalid syntax\n"
     ]
    }
   ],
   "source": [
    "function sayHello() {\n",
    "document.write(\"Hello, Coding Ground!\");\n",
    "}\n",
    "sayHello();"
   ]
  },
  {
   "cell_type": "code",
   "execution_count": null,
   "metadata": {},
   "outputs": [],
   "source": []
  }
 ],
 "metadata": {
  "kernelspec": {
   "display_name": "Python 3",
   "language": "python",
   "name": "python3"
  },
  "language_info": {
   "codemirror_mode": {
    "name": "ipython",
    "version": 3
   },
   "file_extension": ".py",
   "mimetype": "text/x-python",
   "name": "python",
   "nbconvert_exporter": "python",
   "pygments_lexer": "ipython3",
   "version": "3.7.6"
  }
 },
 "nbformat": 4,
 "nbformat_minor": 4
}
